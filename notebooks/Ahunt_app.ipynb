{
  "cells": [
    {
      "cell_type": "code",
      "source": [
        "!pip install streamlit mlflow pyngrok -q"
      ],
      "metadata": {
        "colab": {
          "base_uri": "https://localhost:8080/"
        },
        "id": "j8AucMMu6gwK",
        "outputId": "f96af0fe-1de2-4cd6-a7b4-af52252df4ce"
      },
      "execution_count": 1,
      "outputs": [
        {
          "output_type": "stream",
          "name": "stdout",
          "text": [
            "\u001b[K     |████████████████████████████████| 9.2 MB 12.5 MB/s \n",
            "\u001b[K     |████████████████████████████████| 16.5 MB 40.3 MB/s \n",
            "\u001b[K     |████████████████████████████████| 761 kB 49.0 MB/s \n",
            "\u001b[K     |████████████████████████████████| 237 kB 6.0 MB/s \n",
            "\u001b[K     |████████████████████████████████| 164 kB 64.4 MB/s \n",
            "\u001b[K     |████████████████████████████████| 4.7 MB 47.1 MB/s \n",
            "\u001b[K     |████████████████████████████████| 78 kB 3.0 MB/s \n",
            "\u001b[K     |████████████████████████████████| 182 kB 14.1 MB/s \n",
            "\u001b[K     |████████████████████████████████| 62 kB 374 kB/s \n",
            "\u001b[K     |████████████████████████████████| 51 kB 4.6 MB/s \n",
            "\u001b[K     |████████████████████████████████| 209 kB 72.2 MB/s \n",
            "\u001b[K     |████████████████████████████████| 575 kB 70.2 MB/s \n",
            "\u001b[K     |████████████████████████████████| 79 kB 9.3 MB/s \n",
            "\u001b[K     |████████████████████████████████| 147 kB 50.7 MB/s \n",
            "\u001b[K     |████████████████████████████████| 82 kB 593 kB/s \n",
            "\u001b[K     |████████████████████████████████| 78 kB 8.3 MB/s \n",
            "\u001b[K     |████████████████████████████████| 55 kB 3.9 MB/s \n",
            "\u001b[K     |████████████████████████████████| 62 kB 1.6 MB/s \n",
            "\u001b[K     |████████████████████████████████| 147 kB 75.0 MB/s \n",
            "\u001b[K     |████████████████████████████████| 146 kB 78.6 MB/s \n",
            "\u001b[?25h  Building wheel for validators (setup.py) ... \u001b[?25l\u001b[?25hdone\n",
            "  Building wheel for databricks-cli (setup.py) ... \u001b[?25l\u001b[?25hdone\n",
            "  Building wheel for pyngrok (setup.py) ... \u001b[?25l\u001b[?25hdone\n"
          ]
        }
      ]
    },
    {
      "cell_type": "code",
      "source": [
        "!pip install git+https://github.com/vafaei-ar/ahunt-app -q --ignore-installed\n",
        "!pkill ahunt"
      ],
      "metadata": {
        "id": "h9V3QT_U0f5k",
        "colab": {
          "base_uri": "https://localhost:8080/"
        },
        "outputId": "57603da5-aa4e-47ae-ea2a-69d4fc686830"
      },
      "execution_count": 9,
      "outputs": [
        {
          "output_type": "stream",
          "name": "stdout",
          "text": [
            "  Building wheel for ahunt (setup.py) ... \u001b[?25l\u001b[?25hdone\n"
          ]
        }
      ]
    },
    {
      "cell_type": "code",
      "source": [
        "import PIL\n",
        "import h5py\n",
        "import uuid\n",
        "import numpy as np\n",
        "import pandas as pd\n",
        "from glob import glob\n",
        "from tqdm import tqdm\n",
        "from shutil import copy\n",
        "from pyngrok import ngrok\n",
        "from getpass import getpass"
      ],
      "metadata": {
        "id": "tnyv_Tif77hN"
      },
      "execution_count": 11,
      "outputs": []
    },
    {
      "cell_type": "markdown",
      "source": [
        "Galaxy10 dataset (17736 images)\n",
        "- Class 0 (1081 images): Disturbed\n",
        "- Class 1 (1853 images): Merging\n",
        "- Class 2 (2645 images): Round Smooth\n",
        "- Class 3 (2027 images): In-between Round Smooth\n",
        "- Class 4 ( 334 images): Cigar Shaped Smooth\n",
        "- Class 5 (2043 images): Barred Spiral\n",
        "- Class 6 (1829 images): Unbarred Tight Spiral\n",
        "- Class 7 (2628 images): Unbarred Loose Spiral\n",
        "- Class 8 (1423 images): Edge-on without Bulge\n",
        "- Class 9 (1873 images): Edge-on with Bulge"
      ],
      "metadata": {
        "id": "UzLkHHH79dph"
      }
    },
    {
      "cell_type": "code",
      "source": [
        "# !wget https://www.astro.utoronto.ca/~hleung/shared/Galaxy10/Galaxy10_DECals.h5\n",
        "# f = h5py.File('Galaxy10_DECals.h5','r')\n",
        "# images = f['images'][()]\n",
        "# labels = f['ans'][()]\n",
        "\n",
        "# filt = np.isin(labels,[1,2,4])\n",
        "# x = images[filt]\n",
        "# y = labels[filt]\n",
        "# ndata = len(x)\n",
        "\n",
        "# !rm -r images\n",
        "# !mkdir images\n",
        "# inds = np.arange(ndata)\n",
        "# np.random.seed(42)\n",
        "# np.random.shuffle(inds)\n",
        "# flie_names = []\n",
        "# for i,j in tqdm(enumerate(inds)):\n",
        "#   im = PIL.Image.fromarray(x[i])\n",
        "#   im.save(f'images/{j}.jpg')\n",
        "    # flie_names.append(f'{j}.jpg')\n",
        "\n",
        "# df_gt = pd.DataFrame(columns=['image','label'],index=np.arange(len(y)))\n",
        "# df_gt.loc[:,'image'] = flie_names\n",
        "# df_gt.loc[:,'label'] = y\n",
        "# df_gt.to_csv('GroundTruth.csv',index=0)"
      ],
      "metadata": {
        "id": "_LM1XM8P9-lT"
      },
      "execution_count": 4,
      "outputs": []
    },
    {
      "cell_type": "code",
      "source": [
        "!wget https://storage.googleapis.com/laurencemoroney-blog.appspot.com/rps.zip\n",
        "!unzip -qq rps.zip\n",
        "!rm -r images\n",
        "!mkdir images\n",
        "n1 = 100\n",
        "n2 = n1\n",
        "n3 = 10\n",
        "flist = glob('rps/scissors/*')[:n1]+glob('rps/paper/*')[:n2]+glob('rps/rock/*')[:n3]\n",
        "y = n1*[0]+n2*[1]+n3*[2]\n",
        "flie_names = []\n",
        "for i in tqdm(flist):\n",
        "    id = uuid.uuid4().hex[:8]\n",
        "    flie_names.append(f'{id}.jpg')\n",
        "    copy(i,f'images/{id}.jpg')\n",
        "\n",
        "df_gt = pd.DataFrame(columns=['image','label'],index=np.arange(len(y)))\n",
        "df_gt.loc[:,'image'] = flie_names\n",
        "df_gt.loc[:,'label'] = n1*['scissor']+n2*['paper']+n3*['rock']\n",
        "df_gt.to_csv('GroundTruth.csv',index=0)"
      ],
      "metadata": {
        "colab": {
          "base_uri": "https://localhost:8080/"
        },
        "id": "kEFA2w0CBAqT",
        "outputId": "e6c40d93-e7b8-4c42-9be6-c7754019f2f5"
      },
      "execution_count": 5,
      "outputs": [
        {
          "output_type": "stream",
          "name": "stdout",
          "text": [
            "--2022-12-13 19:12:15--  https://storage.googleapis.com/laurencemoroney-blog.appspot.com/rps.zip\n",
            "Resolving storage.googleapis.com (storage.googleapis.com)... 108.177.127.128, 142.250.145.128, 74.125.143.128, ...\n",
            "Connecting to storage.googleapis.com (storage.googleapis.com)|108.177.127.128|:443... connected.\n",
            "HTTP request sent, awaiting response... 200 OK\n",
            "Length: 200682221 (191M) [application/zip]\n",
            "Saving to: ‘rps.zip’\n",
            "\n",
            "rps.zip             100%[===================>] 191.38M  36.3MB/s    in 5.8s    \n",
            "\n",
            "2022-12-13 19:12:21 (33.1 MB/s) - ‘rps.zip’ saved [200682221/200682221]\n",
            "\n",
            "rm: cannot remove 'images': No such file or directory\n"
          ]
        },
        {
          "output_type": "stream",
          "name": "stderr",
          "text": [
            "100%|██████████| 210/210 [00:00<00:00, 1451.76it/s]\n"
          ]
        }
      ]
    },
    {
      "cell_type": "code",
      "source": [
        "get_ipython().system_raw('ahunt --port 8501 &')\n",
        "# Terminate open tunnels if exist\n",
        "ngrok.kill()\n",
        "NGROK_AUTH_TOKEN = getpass('Enter the ngrok authtoken: ')\n",
        "ngrok.set_auth_token(NGROK_AUTH_TOKEN)\n",
        "ngrok_tunnel = ngrok.connect(addr=\"8501\", proto=\"http\", bind_tls=True)\n",
        "print(\"running UI  at:\", ngrok_tunnel.public_url)"
      ],
      "metadata": {
        "id": "t71MKH660gLM",
        "colab": {
          "base_uri": "https://localhost:8080/"
        },
        "outputId": "965bf233-53bf-4e7b-ca58-1daf1d22a1a0"
      },
      "execution_count": 12,
      "outputs": [
        {
          "output_type": "stream",
          "name": "stdout",
          "text": [
            "Enter the ngrok authtoken: ··········\n",
            "running UI  at: https://1e61-34-147-79-76.ngrok.io\n"
          ]
        }
      ]
    },
    {
      "cell_type": "markdown",
      "source": [
        "### everything is saved on \"als_files\" directory in the chosen image directory. "
      ],
      "metadata": {
        "id": "LCTTFzNo6wqy"
      }
    },
    {
      "cell_type": "code",
      "source": [
        "ls images/als_files"
      ],
      "metadata": {
        "colab": {
          "base_uri": "https://localhost:8080/"
        },
        "id": "yUkNEfwe68sR",
        "outputId": "1d73334b-e8df-4947-d10e-40479f3bedb0"
      },
      "execution_count": 8,
      "outputs": [
        {
          "output_type": "stream",
          "name": "stdout",
          "text": [
            "\u001b[0m\u001b[01;34mcheckpoints\u001b[0m/  idx_to_class.npy  labels.csv\n"
          ]
        }
      ]
    },
    {
      "cell_type": "code",
      "source": [
        "ls images/als_files/checkpoints/*"
      ],
      "metadata": {
        "colab": {
          "base_uri": "https://localhost:8080/"
        },
        "id": "YZpIsFtHLofc",
        "outputId": "627e8dc7-e24b-4144-ec67-c3293bd4a138"
      },
      "execution_count": 7,
      "outputs": [
        {
          "output_type": "stream",
          "name": "stdout",
          "text": [
            "'images/als_files/checkpoints/labels_VGG19_13-Dec-2022_(19:16:01.040241).csv'\n",
            "\n",
            "images/als_files/checkpoints/VGG19_encoder.tf:\n",
            "\u001b[0m\u001b[01;34massets\u001b[0m/  keras_metadata.pb  saved_model.pb  \u001b[01;34mvariables\u001b[0m/\n",
            "\n",
            "images/als_files/checkpoints/VGG19.tf:\n",
            "\u001b[01;34massets\u001b[0m/  keras_metadata.pb  saved_model.pb  \u001b[01;34mvariables\u001b[0m/\n"
          ]
        }
      ]
    },
    {
      "cell_type": "markdown",
      "source": [
        "### you can also track what you did with mlflow:"
      ],
      "metadata": {
        "id": "QEXTU2_X7VVy"
      }
    },
    {
      "cell_type": "code",
      "source": [
        "ls"
      ],
      "metadata": {
        "colab": {
          "base_uri": "https://localhost:8080/"
        },
        "id": "IveJjic8wxwo",
        "outputId": "4077da8e-786d-4dbb-8e97-3002a946a419"
      },
      "execution_count": 23,
      "outputs": [
        {
          "output_type": "stream",
          "name": "stdout",
          "text": [
            "GroundTruth.csv  \u001b[0m\u001b[01;34mimages\u001b[0m/  LOGS.log  \u001b[01;34mmlruns\u001b[0m/  \u001b[01;34mrps\u001b[0m/  rps.zip  \u001b[01;34msample_data\u001b[0m/\n"
          ]
        }
      ]
    },
    {
      "cell_type": "code",
      "source": [
        "!pkill mlflow\n",
        "# path = 'file:///content/'\n",
        "# get_ipython().system_raw(\"mlflow ui --port 5000 --backend-store-uri '{}mlruns/' &\".format(path))\n",
        "\n",
        "get_ipython().system_raw(\"mlflow ui --port 5000\")\n",
        "\n",
        "ngrok.kill()\n",
        "ngrok.set_auth_token(NGROK_AUTH_TOKEN)\n",
        "ngrok_tunnel = ngrok.connect(addr=\"5000\", proto=\"http\", bind_tls=True)\n",
        "print(\"MLflow Tracking UI:\", ngrok_tunnel.public_url)"
      ],
      "metadata": {
        "colab": {
          "base_uri": "https://localhost:8080/"
        },
        "id": "nrcwi6WY0iw8",
        "outputId": "19331fa1-88d6-4d10-e062-d2e85aece537"
      },
      "execution_count": 31,
      "outputs": [
        {
          "output_type": "stream",
          "name": "stdout",
          "text": [
            "/content/mlruns\n",
            "MLflow Tracking UI: https://0823-34-147-79-76.ngrok.io\n"
          ]
        }
      ]
    },
    {
      "cell_type": "code",
      "source": [],
      "metadata": {
        "id": "MmXI2VNx-svQ"
      },
      "execution_count": null,
      "outputs": []
    }
  ],
  "metadata": {
    "colab": {
      "provenance": []
    },
    "kernelspec": {
      "display_name": "Python 3",
      "name": "python3"
    },
    "accelerator": "GPU",
    "gpuClass": "standard"
  },
  "nbformat": 4,
  "nbformat_minor": 0
}