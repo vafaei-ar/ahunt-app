{
  "cells": [
    {
      "cell_type": "markdown",
      "metadata": {
        "id": "aQIpqONWFvfC"
      },
      "source": [
        "#### First you need to create an account at [ngrok](https://ngrok.com/). Then you will need your ***Your Authtoken***."
      ]
    },
    {
      "cell_type": "code",
      "execution_count": 1,
      "metadata": {
        "colab": {
          "base_uri": "https://localhost:8080/"
        },
        "id": "j8AucMMu6gwK",
        "outputId": "f736f95f-49bd-4ed8-b3fe-29d752df52f5",
        "vscode": {
          "languageId": "python"
        }
      },
      "outputs": [
        {
          "output_type": "stream",
          "name": "stdout",
          "text": [
            "\u001b[2K     \u001b[90m━━━━━━━━━━━━━━━━━━━━━━━━━━━━━━━━━━━━━━━━\u001b[0m \u001b[32m9.2/9.2 MB\u001b[0m \u001b[31m46.4 MB/s\u001b[0m eta \u001b[36m0:00:00\u001b[0m\n",
            "\u001b[2K     \u001b[90m━━━━━━━━━━━━━━━━━━━━━━━━━━━━━━━━━━━━━━━━\u001b[0m \u001b[32m16.7/16.7 MB\u001b[0m \u001b[31m57.7 MB/s\u001b[0m eta \u001b[36m0:00:00\u001b[0m\n",
            "\u001b[2K     \u001b[90m━━━━━━━━━━━━━━━━━━━━━━━━━━━━━━━━━━━━━━\u001b[0m \u001b[32m761.3/761.3 KB\u001b[0m \u001b[31m25.9 MB/s\u001b[0m eta \u001b[36m0:00:00\u001b[0m\n",
            "\u001b[?25h  Preparing metadata (setup.py) ... \u001b[?25l\u001b[?25hdone\n",
            "\u001b[2K     \u001b[90m━━━━━━━━━━━━━━━━━━━━━━━━━━━━━━━━━━━━━━━━\u001b[0m \u001b[32m52.1/52.1 KB\u001b[0m \u001b[31m3.0 MB/s\u001b[0m eta \u001b[36m0:00:00\u001b[0m\n",
            "\u001b[2K     \u001b[90m━━━━━━━━━━━━━━━━━━━━━━━━━━━━━━━━━━━━━━\u001b[0m \u001b[32m238.9/238.9 KB\u001b[0m \u001b[31m14.1 MB/s\u001b[0m eta \u001b[36m0:00:00\u001b[0m\n",
            "\u001b[?25h  Preparing metadata (setup.py) ... \u001b[?25l\u001b[?25hdone\n",
            "\u001b[2K     \u001b[90m━━━━━━━━━━━━━━━━━━━━━━━━━━━━━━━━━━━━━━\u001b[0m \u001b[32m164.8/164.8 KB\u001b[0m \u001b[31m13.5 MB/s\u001b[0m eta \u001b[36m0:00:00\u001b[0m\n",
            "\u001b[2K     \u001b[90m━━━━━━━━━━━━━━━━━━━━━━━━━━━━━━━━━━━━━━━━\u001b[0m \u001b[32m79.0/79.0 KB\u001b[0m \u001b[31m4.3 MB/s\u001b[0m eta \u001b[36m0:00:00\u001b[0m\n",
            "\u001b[2K     \u001b[90m━━━━━━━━━━━━━━━━━━━━━━━━━━━━━━━━━━━━━━━━\u001b[0m \u001b[32m4.7/4.7 MB\u001b[0m \u001b[31m70.0 MB/s\u001b[0m eta \u001b[36m0:00:00\u001b[0m\n",
            "\u001b[2K     \u001b[90m━━━━━━━━━━━━━━━━━━━━━━━━━━━━━━━━━━━━━━\u001b[0m \u001b[32m184.0/184.0 KB\u001b[0m \u001b[31m11.1 MB/s\u001b[0m eta \u001b[36m0:00:00\u001b[0m\n",
            "\u001b[2K     \u001b[90m━━━━━━━━━━━━━━━━━━━━━━━━━━━━━━━━━━━━━━━━\u001b[0m \u001b[32m82.3/82.3 KB\u001b[0m \u001b[31m6.3 MB/s\u001b[0m eta \u001b[36m0:00:00\u001b[0m\n",
            "\u001b[?25h  Preparing metadata (setup.py) ... \u001b[?25l\u001b[?25hdone\n",
            "\u001b[2K     \u001b[90m━━━━━━━━━━━━━━━━━━━━━━━━━━━━━━━━━━━━━━━\u001b[0m \u001b[32m147.5/147.5 KB\u001b[0m \u001b[31m8.5 MB/s\u001b[0m eta \u001b[36m0:00:00\u001b[0m\n",
            "\u001b[2K     \u001b[90m━━━━━━━━━━━━━━━━━━━━━━━━━━━━━━━━━━━━━━\u001b[0m \u001b[32m575.9/575.9 KB\u001b[0m \u001b[31m20.9 MB/s\u001b[0m eta \u001b[36m0:00:00\u001b[0m\n",
            "\u001b[2K     \u001b[90m━━━━━━━━━━━━━━━━━━━━━━━━━━━━━━━━━━━━━━━\u001b[0m \u001b[32m210.6/210.6 KB\u001b[0m \u001b[31m9.1 MB/s\u001b[0m eta \u001b[36m0:00:00\u001b[0m\n",
            "\u001b[2K     \u001b[90m━━━━━━━━━━━━━━━━━━━━━━━━━━━━━━━━━━━━━━━━\u001b[0m \u001b[32m79.5/79.5 KB\u001b[0m \u001b[31m5.2 MB/s\u001b[0m eta \u001b[36m0:00:00\u001b[0m\n",
            "\u001b[2K     \u001b[90m━━━━━━━━━━━━━━━━━━━━━━━━━━━━━━━━━━━━━━━━\u001b[0m \u001b[32m78.7/78.7 KB\u001b[0m \u001b[31m4.2 MB/s\u001b[0m eta \u001b[36m0:00:00\u001b[0m\n",
            "\u001b[2K     \u001b[90m━━━━━━━━━━━━━━━━━━━━━━━━━━━━━━━━━━━━━━━\u001b[0m \u001b[32m55.3/55.3 KB\u001b[0m \u001b[31m211.5 kB/s\u001b[0m eta \u001b[36m0:00:00\u001b[0m\n",
            "\u001b[2K     \u001b[90m━━━━━━━━━━━━━━━━━━━━━━━━━━━━━━━━━━━━━━━\u001b[0m \u001b[32m140.6/140.6 KB\u001b[0m \u001b[31m5.7 MB/s\u001b[0m eta \u001b[36m0:00:00\u001b[0m\n",
            "\u001b[2K     \u001b[90m━━━━━━━━━━━━━━━━━━━━━━━━━━━━━━━━━━━━━━━━\u001b[0m \u001b[32m62.8/62.8 KB\u001b[0m \u001b[31m2.5 MB/s\u001b[0m eta \u001b[36m0:00:00\u001b[0m\n",
            "\u001b[2K     \u001b[90m━━━━━━━━━━━━━━━━━━━━━━━━━━━━━━━━━━━━━━━━\u001b[0m \u001b[32m62.7/62.7 KB\u001b[0m \u001b[31m3.6 MB/s\u001b[0m eta \u001b[36m0:00:00\u001b[0m\n",
            "\u001b[2K     \u001b[90m━━━━━━━━━━━━━━━━━━━━━━━━━━━━━━━━━━━━━━━━\u001b[0m \u001b[32m84.5/84.5 KB\u001b[0m \u001b[31m6.0 MB/s\u001b[0m eta \u001b[36m0:00:00\u001b[0m\n",
            "\u001b[?25h  Building wheel for pyngrok (setup.py) ... \u001b[?25l\u001b[?25hdone\n",
            "  Building wheel for databricks-cli (setup.py) ... \u001b[?25l\u001b[?25hdone\n",
            "  Building wheel for validators (setup.py) ... \u001b[?25l\u001b[?25hdone\n"
          ]
        }
      ],
      "source": [
        "!pip install streamlit==1.15.2 mlflow pyngrok tf-keras-vis -q"
      ]
    },
    {
      "cell_type": "code",
      "execution_count": 2,
      "metadata": {
        "colab": {
          "base_uri": "https://localhost:8080/"
        },
        "id": "h9V3QT_U0f5k",
        "outputId": "06066423-5d7c-4fbd-be74-534db75ee76a",
        "vscode": {
          "languageId": "python"
        }
      },
      "outputs": [
        {
          "output_type": "stream",
          "name": "stdout",
          "text": [
            "  Preparing metadata (setup.py) ... \u001b[?25l\u001b[?25hdone\n",
            "  Building wheel for ahunt (setup.py) ... \u001b[?25l\u001b[?25hdone\n"
          ]
        }
      ],
      "source": [
        "!pip install git+https://github.com/vafaei-ar/ahunt-app -q --ignore-installed\n",
        "!pkill ahunt"
      ]
    },
    {
      "cell_type": "code",
      "execution_count": 3,
      "metadata": {
        "id": "tnyv_Tif77hN",
        "vscode": {
          "languageId": "python"
        }
      },
      "outputs": [],
      "source": [
        "import PIL\n",
        "import uuid\n",
        "import numpy as np\n",
        "import pandas as pd\n",
        "from glob import glob\n",
        "from tqdm import tqdm\n",
        "from shutil import copy\n",
        "from pyngrok import ngrok\n",
        "from getpass import getpass"
      ]
    },
    {
      "cell_type": "markdown",
      "source": [
        "# Galaxy10 DECals Dataset"
      ],
      "metadata": {
        "id": "upzGwUiRG6mj"
      }
    },
    {
      "cell_type": "markdown",
      "metadata": {
        "id": "UzLkHHH79dph"
      },
      "source": [
        "Galaxy10 dataset (17736 images)\n",
        "- Class 0 (1081 images): Disturbed\n",
        "- Class 1 (1853 images): Merging\n",
        "- Class 2 (2645 images): Round Smooth\n",
        "- Class 3 (2027 images): In-between Round Smooth\n",
        "- Class 4 ( 334 images): Cigar Shaped Smooth\n",
        "- Class 5 (2043 images): Barred Spiral\n",
        "- Class 6 (1829 images): Unbarred Tight Spiral\n",
        "- Class 7 (2628 images): Unbarred Loose Spiral\n",
        "- Class 8 (1423 images): Edge-on without Bulge\n",
        "- Class 9 (1873 images): Edge-on with Bulge"
      ]
    },
    {
      "cell_type": "code",
      "execution_count": 4,
      "metadata": {
        "id": "_LM1XM8P9-lT",
        "vscode": {
          "languageId": "python"
        }
      },
      "outputs": [],
      "source": [
        "# !wget https://www.astro.utoronto.ca/~hleung/shared/Galaxy10/Galaxy10_DECals.h5\n",
        "# import h5py\n",
        "# f = h5py.File('Galaxy10_DECals.h5','r')\n",
        "# images = f['images'][()]\n",
        "# labels = f['ans'][()]\n",
        "\n",
        "# filt = np.isin(labels,[1,2,4])\n",
        "# x = images[filt]\n",
        "# y = labels[filt]\n",
        "# ndata = len(x)\n",
        "\n",
        "# !rm -r images\n",
        "# !mkdir images\n",
        "# inds = np.arange(ndata)\n",
        "# np.random.seed(42)\n",
        "# np.random.shuffle(inds)\n",
        "# flie_names = []\n",
        "# for i,j in tqdm(enumerate(inds)):\n",
        "#   im = PIL.Image.fromarray(x[i])\n",
        "#   im.save(f'images/{j}.jpg')\n",
        "    # flie_names.append(f'{j}.jpg')\n",
        "\n",
        "# df_gt = pd.DataFrame(columns=['image','label'],index=np.arange(len(y)))\n",
        "# df_gt.loc[:,'image'] = flie_names\n",
        "# df_gt.loc[:,'label'] = y\n",
        "# df_gt.to_csv('GroundTruth.csv',index=0)"
      ]
    },
    {
      "cell_type": "markdown",
      "source": [
        "# Rock-Paper-Scissors Images"
      ],
      "metadata": {
        "id": "lOcueaw2HBXo"
      }
    },
    {
      "cell_type": "code",
      "execution_count": 6,
      "metadata": {
        "id": "kEFA2w0CBAqT",
        "vscode": {
          "languageId": "python"
        }
      },
      "outputs": [],
      "source": [
        "# !wget https://storage.googleapis.com/laurencemoroney-blog.appspot.com/rps.zip\n",
        "# !unzip -qq rps.zip\n",
        "# !rm -r images\n",
        "# !mkdir images\n",
        "# n1 = 100\n",
        "# n2 = n1\n",
        "# n3 = 10\n",
        "# flist = glob('rps/scissors/*')[:n1]+glob('rps/paper/*')[:n2]+glob('rps/rock/*')[:n3]\n",
        "# y = n1*[0]+n2*[1]+n3*[2]\n",
        "# flie_names = []\n",
        "# for i in tqdm(flist):\n",
        "#     id = uuid.uuid4().hex[:8]\n",
        "#     flie_names.append(f'{id}.jpg')\n",
        "#     copy(i,f'images/{id}.jpg')\n",
        "\n",
        "# df_gt = pd.DataFrame(columns=['image','label'],index=np.arange(len(y)))\n",
        "# df_gt.loc[:,'image'] = flie_names\n",
        "# df_gt.loc[:,'label'] = n1*['scissor']+n2*['paper']+n3*['rock']\n",
        "# df_gt.to_csv('GroundTruth.csv',index=0)"
      ]
    },
    {
      "cell_type": "markdown",
      "source": [
        "# MNIST"
      ],
      "metadata": {
        "id": "E9x7KfmxHGos"
      }
    },
    {
      "cell_type": "code",
      "source": [
        "from tensorflow import keras\n",
        "(x_train, y_train), (x_test, y_test) = keras.datasets.mnist.load_data()\n"
      ],
      "metadata": {
        "id": "Dhf9tD3jGZ2w",
        "outputId": "1d0a8d4b-40d9-44c8-9c20-02d3b5e2e36e",
        "colab": {
          "base_uri": "https://localhost:8080/"
        }
      },
      "execution_count": 7,
      "outputs": [
        {
          "output_type": "stream",
          "name": "stdout",
          "text": [
            "Downloading data from https://storage.googleapis.com/tensorflow/tf-keras-datasets/mnist.npz\n",
            "11490434/11490434 [==============================] - 0s 0us/step\n"
          ]
        }
      ]
    },
    {
      "cell_type": "code",
      "source": [
        "data_config = {\n",
        "    0:200,\n",
        "    1:200,\n",
        "    2:10\n",
        "}\n",
        "\n",
        "np.random.seed(42)\n",
        "\n",
        "x = []\n",
        "y = []\n",
        "for k,v in data_config.items():\n",
        "  inds = np.argwhere(y_train==k).reshape(-1)\n",
        "  np.random.shuffle(inds)\n",
        "  inds = inds[:v]\n",
        "  x.append(x_train[inds])\n",
        "  y.append(y_train[inds])\n",
        "\n",
        "x = np.concatenate(x,axis=0)\n",
        "y = np.concatenate(y,axis=0)\n",
        "n_data = len(x)\n",
        "\n",
        "!rm -r images\n",
        "!mkdir images\n",
        "flie_names = []\n",
        "for i in tqdm(range(n_data)):\n",
        "  im = PIL.Image.fromarray(x[i])\n",
        "  id = uuid.uuid4().hex[:8]\n",
        "  im.save(f'images/{id}_{y[i]}.jpg')\n",
        "  flie_names.append(f'{id}_{y[i]}.jpg')\n",
        "\n",
        "df_gt = pd.DataFrame(columns=['image','label'],index=np.arange(len(y)))\n",
        "df_gt.loc[:,'image'] = flie_names\n",
        "df_gt.loc[:,'label'] = y\n",
        "df_gt.to_csv('GroundTruth.csv',index=0)"
      ],
      "metadata": {
        "id": "Qen3uYX4HkuA",
        "outputId": "4c571586-70ff-4c5e-ec27-b1a85c8074f4",
        "colab": {
          "base_uri": "https://localhost:8080/"
        }
      },
      "execution_count": 13,
      "outputs": [
        {
          "output_type": "stream",
          "name": "stderr",
          "text": [
            "100%|██████████| 410/410 [00:00<00:00, 5608.11it/s]\n"
          ]
        }
      ]
    },
    {
      "cell_type": "code",
      "execution_count": null,
      "metadata": {
        "colab": {
          "base_uri": "https://localhost:8080/"
        },
        "id": "t71MKH660gLM",
        "outputId": "965bf233-53bf-4e7b-ca58-1daf1d22a1a0",
        "vscode": {
          "languageId": "python"
        }
      },
      "outputs": [
        {
          "name": "stdout",
          "output_type": "stream",
          "text": [
            "Enter the ngrok authtoken: ··········\n",
            "running UI  at: https://1e61-34-147-79-76.ngrok.io\n"
          ]
        }
      ],
      "source": [
        "get_ipython().system_raw('ahunt --port 8501 &')\n",
        "# Terminate open tunnels if exist\n",
        "ngrok.kill()\n",
        "NGROK_AUTH_TOKEN = getpass('Enter the ngrok authtoken: ')\n",
        "ngrok.set_auth_token(NGROK_AUTH_TOKEN)\n",
        "ngrok_tunnel = ngrok.connect(addr=\"8501\", proto=\"http\", bind_tls=True)\n",
        "print(\"running UI  at:\", ngrok_tunnel.public_url)"
      ]
    },
    {
      "cell_type": "markdown",
      "metadata": {
        "id": "LCTTFzNo6wqy"
      },
      "source": [
        "### everything is saved on \"als_files\" directory in the chosen image directory. "
      ]
    },
    {
      "cell_type": "code",
      "execution_count": null,
      "metadata": {
        "colab": {
          "base_uri": "https://localhost:8080/"
        },
        "id": "yUkNEfwe68sR",
        "outputId": "1d73334b-e8df-4947-d10e-40479f3bedb0",
        "vscode": {
          "languageId": "python"
        }
      },
      "outputs": [
        {
          "name": "stdout",
          "output_type": "stream",
          "text": [
            "\u001b[0m\u001b[01;34mcheckpoints\u001b[0m/  idx_to_class.npy  labels.csv\n"
          ]
        }
      ],
      "source": [
        "ls images/als_files"
      ]
    },
    {
      "cell_type": "code",
      "execution_count": null,
      "metadata": {
        "colab": {
          "base_uri": "https://localhost:8080/"
        },
        "id": "YZpIsFtHLofc",
        "outputId": "627e8dc7-e24b-4144-ec67-c3293bd4a138",
        "vscode": {
          "languageId": "python"
        }
      },
      "outputs": [
        {
          "name": "stdout",
          "output_type": "stream",
          "text": [
            "'images/als_files/checkpoints/labels_VGG19_13-Dec-2022_(19:16:01.040241).csv'\n",
            "\n",
            "images/als_files/checkpoints/VGG19_encoder.tf:\n",
            "\u001b[0m\u001b[01;34massets\u001b[0m/  keras_metadata.pb  saved_model.pb  \u001b[01;34mvariables\u001b[0m/\n",
            "\n",
            "images/als_files/checkpoints/VGG19.tf:\n",
            "\u001b[01;34massets\u001b[0m/  keras_metadata.pb  saved_model.pb  \u001b[01;34mvariables\u001b[0m/\n"
          ]
        }
      ],
      "source": [
        "ls images/als_files/checkpoints/*"
      ]
    },
    {
      "cell_type": "markdown",
      "metadata": {
        "id": "QEXTU2_X7VVy"
      },
      "source": [
        "### you can also track what you did with mlflow:"
      ]
    },
    {
      "cell_type": "code",
      "execution_count": null,
      "metadata": {
        "colab": {
          "base_uri": "https://localhost:8080/"
        },
        "id": "IveJjic8wxwo",
        "outputId": "4077da8e-786d-4dbb-8e97-3002a946a419",
        "vscode": {
          "languageId": "python"
        }
      },
      "outputs": [
        {
          "name": "stdout",
          "output_type": "stream",
          "text": [
            "GroundTruth.csv  \u001b[0m\u001b[01;34mimages\u001b[0m/  LOGS.log  \u001b[01;34mmlruns\u001b[0m/  \u001b[01;34mrps\u001b[0m/  rps.zip  \u001b[01;34msample_data\u001b[0m/\n"
          ]
        }
      ],
      "source": [
        "ls"
      ]
    },
    {
      "cell_type": "code",
      "execution_count": null,
      "metadata": {
        "colab": {
          "base_uri": "https://localhost:8080/"
        },
        "id": "nrcwi6WY0iw8",
        "outputId": "19331fa1-88d6-4d10-e062-d2e85aece537",
        "vscode": {
          "languageId": "python"
        }
      },
      "outputs": [
        {
          "name": "stdout",
          "output_type": "stream",
          "text": [
            "/content/mlruns\n",
            "MLflow Tracking UI: https://0823-34-147-79-76.ngrok.io\n"
          ]
        }
      ],
      "source": [
        "!pkill mlflow\n",
        "# path = 'file:///content/'\n",
        "# get_ipython().system_raw(\"mlflow ui --port 5000 --backend-store-uri '{}mlruns/' &\".format(path))\n",
        "\n",
        "get_ipython().system_raw(\"mlflow ui --port 5000\")\n",
        "\n",
        "ngrok.kill()\n",
        "ngrok.set_auth_token(NGROK_AUTH_TOKEN)\n",
        "ngrok_tunnel = ngrok.connect(addr=\"5000\", proto=\"http\", bind_tls=True)\n",
        "print(\"MLflow Tracking UI:\", ngrok_tunnel.public_url)"
      ]
    },
    {
      "cell_type": "code",
      "execution_count": null,
      "metadata": {
        "id": "MmXI2VNx-svQ",
        "vscode": {
          "languageId": "python"
        }
      },
      "outputs": [],
      "source": []
    }
  ],
  "metadata": {
    "accelerator": "GPU",
    "colab": {
      "provenance": []
    },
    "gpuClass": "standard",
    "kernelspec": {
      "display_name": "Python 3",
      "name": "python3"
    }
  },
  "nbformat": 4,
  "nbformat_minor": 0
}